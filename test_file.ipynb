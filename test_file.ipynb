{
 "cells": [
  {
   "cell_type": "code",
   "execution_count": 1,
   "metadata": {},
   "outputs": [],
   "source": [
    "import os\n",
    "import pickle\n",
    "import numpy as np\n",
    "import tensorflow as tf \n",
    "from tensorflow import keras \n",
    "from tensorflow.keras import layers"
   ]
  },
  {
   "cell_type": "code",
   "execution_count": 2,
   "metadata": {},
   "outputs": [
    {
     "name": "stdout",
     "output_type": "stream",
     "text": [
      "WARNING:tensorflow:No training configuration found in save file, so the model was *not* compiled. Compile it manually.\n"
     ]
    }
   ],
   "source": [
    "prediction_model = tf.keras.models.load_model('decaptcha_model')"
   ]
  },
  {
   "cell_type": "code",
   "execution_count": 3,
   "metadata": {},
   "outputs": [],
   "source": [
    "img_width = 200\n",
    "img_height = 50\n",
    "def encode_sample(img_path): \n",
    "\t# Read the image \n",
    "\timg = tf.io.read_file(img_path) \n",
    "\t# Converting the image to grayscale \n",
    "\timg = tf.io.decode_png(img, channels=1) \n",
    "\timg = tf.image.convert_image_dtype(img, tf.float32) \n",
    "\t# Resizing to the desired size \n",
    "\timg = tf.image.resize(img, [img_height, img_width]) \n",
    "\t# Transposing the image \n",
    "\timg = tf.transpose(img, perm=[1, 0, 2])\n",
    "\timg = (img * 255).numpy().astype(\"uint8\")\n",
    "\treturn img"
   ]
  },
  {
   "cell_type": "code",
   "execution_count": 4,
   "metadata": {},
   "outputs": [],
   "source": [
    "max_length = 5\n",
    "def decode_batch_predictions(pred): \n",
    "\tinput_len = np.ones(pred.shape[0]) * pred.shape[1] \n",
    "\tresults = keras.backend.ctc_decode(pred, \n",
    "\t\t\t\t\t\t\t\t\tinput_length=input_len, \n",
    "\t\t\t\t\t\t\t\t\tgreedy=True)[0][0][ \n",
    "\t\t:, :max_length \n",
    "\t] \n",
    "\toutput_text = [] \n",
    "\tfor res in results: \n",
    "\t\tres = tf.strings.reduce_join(num_to_char(res)).numpy().decode(\"utf-8\") \n",
    "\t\toutput_text.append(res) \n",
    "\treturn output_text "
   ]
  },
  {
   "cell_type": "code",
   "execution_count": 5,
   "metadata": {},
   "outputs": [],
   "source": [
    "with open('char_img.pkl', 'rb') as f:\n",
    "    char_img = pickle.load(f)\n",
    "char_to_num = layers.StringLookup( \n",
    "\tvocabulary=list(char_img), mask_token=None\n",
    ") \n",
    "\n",
    "num_to_char = layers.StringLookup( \n",
    "\tvocabulary=char_to_num.get_vocabulary(), \n",
    "\tmask_token=None, invert=True\n",
    ") "
   ]
  },
  {
   "cell_type": "code",
   "execution_count": 12,
   "metadata": {},
   "outputs": [],
   "source": [
    "test_img = encode_sample('data/22d5n.png')\n",
    "test_img = np.reshape(test_img, (-1, 200, 50, 1))"
   ]
  },
  {
   "cell_type": "code",
   "execution_count": 13,
   "metadata": {},
   "outputs": [
    {
     "name": "stdout",
     "output_type": "stream",
     "text": [
      "1/1 [==============================] - 0s 191ms/step\n"
     ]
    },
    {
     "data": {
      "text/plain": [
       "['dx5m[UNK]']"
      ]
     },
     "execution_count": 13,
     "metadata": {},
     "output_type": "execute_result"
    }
   ],
   "source": [
    "decode_batch_predictions(prediction_model.predict(test_img))"
   ]
  },
  {
   "cell_type": "code",
   "execution_count": null,
   "metadata": {},
   "outputs": [],
   "source": []
  }
 ],
 "metadata": {
  "kernelspec": {
   "display_name": "Python 3",
   "language": "python",
   "name": "python3"
  },
  "language_info": {
   "codemirror_mode": {
    "name": "ipython",
    "version": 3
   },
   "file_extension": ".py",
   "mimetype": "text/x-python",
   "name": "python",
   "nbconvert_exporter": "python",
   "pygments_lexer": "ipython3",
   "version": "3.10.13"
  },
  "orig_nbformat": 4
 },
 "nbformat": 4,
 "nbformat_minor": 2
}
